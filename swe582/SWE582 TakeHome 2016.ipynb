{
 "cells": [
  {
   "cell_type": "markdown",
   "metadata": {},
   "source": [
    "# Question 1\n",
    "\n",
    "## The Multivariate Gaussian distribution\n",
    "\n",
    "The multivariate Gaussian distribution has the form \n",
    "\n",
    "\\begin{align}\n",
    "\\mathcal{N}(x; \\mu, \\Sigma) &= |2\\pi \\Sigma|^{-1/2} \\exp\\left( -\\frac{1}{2} (x-\\mu)^\\top \\Sigma^{-1} (x-\\mu) \\right) \\\\\n",
    "& = \\exp\\left(-\\frac{1}{2} x^\\top \\Sigma^{-1} x + \\mu^\\top \\Sigma^{-1} x   - \\frac{1}{2} \\mu^\\top \\Sigma^{-1} \\mu   -\\frac{1}{2}\\log \\det(2\\pi \\Sigma) \\right) \\\\\n",
    "\\end{align}\n",
    "\n",
    "\n",
    "\n",
    "## Gaussian Processes Regression\n",
    "\n",
    "In Bayesian machine learning, a frequent problem encountered is the regression problem where we are given a pairs of inputs $x_i \\in \\mathbb{R}^N$ and associated noisy observations $y_i \\in \\mathbb{R}$. We assume the following model\n",
    "\n",
    "\\begin{eqnarray*}\n",
    "y_i &\\sim&  {\\cal N}(y_i; f(x_i), R)\n",
    "\\end{eqnarray*}\n",
    "\n",
    "The interesting thing about a Gaussian process is that the function $f$ is not specified in close form, but we assume that the function values \n",
    "\\begin{eqnarray*}\n",
    "f_i & = & f(x_i)\n",
    "\\end{eqnarray*}\n",
    "are jointly Gaussian distributed as\n",
    "\\begin{eqnarray*}\n",
    "\\left(\n",
    "  \\begin{array}{c}\n",
    "    f_1 \\\\\n",
    "    \\vdots \\\\\n",
    "    f_L \\\\\n",
    "  \\end{array}\n",
    "\\right) & = & f_{1:L} \\sim  {\\cal N}(f_{1:L}; 0, \\Sigma(x_{1:L}))\n",
    "\\end{eqnarray*}\n",
    "Here, we define the entries of the covariance matrix $\\Sigma(x_{1:L})$ as\n",
    "\\begin{eqnarray*}\n",
    "\\Sigma_{i,j} & = & K(x_i, x_j)\n",
    "\\end{eqnarray*}\n",
    "for $i,j \\in \\{1, \\dots, L\\}$. Here, $K$ is a given covariance function. Now, if we wish to predict the value of $f$ for a new $x$, we simply form the following joint distribution:\n",
    "\\begin{eqnarray*}\n",
    "\\left(\n",
    "  \\begin{array}{c}\n",
    "    f_1 \\\\\n",
    "    f_2 \\\\\n",
    "    \\vdots \\\\\n",
    "    f_L \\\\\n",
    "    f \\\\\n",
    "  \\end{array}\n",
    "\\right) & \\sim &  {\\cal N}\\left( \\left(\\begin{array}{c}\n",
    "    0 \\\\\n",
    "    0 \\\\\n",
    "    \\vdots \\\\\n",
    "    0 \\\\\n",
    "    0 \\\\\n",
    "  \\end{array}\\right)\n",
    "  , \\left(\\begin{array}{cccccc}\n",
    "    K(x_1,x_1) & K(x_1,x_2) & \\dots & K(x_1, x_L) &  K(x_1, x) \\\\\n",
    "    K(x_2,x_1) & K(x_2,x_2) & \\dots & K(x_2, x_L) & K(x_2, x) \\\\\n",
    "    \\vdots &\\\\\n",
    "    K(x_L,x_1) & K(x_L,x_2) & \\dots & K(x_L, x_L) &  K(x_L, x)   \\\\\n",
    "    K(x,x_1) & K(x,x_2) & \\dots & K(x, x_L) &  K(x, x)   \\\\\n",
    "  \\end{array}\\right) \\right) \\\\\n",
    "\\left(\n",
    "\\begin{array}{c}\n",
    "    f_{1:L} \\\\\n",
    "    f \n",
    "  \\end{array}\n",
    "\\right) & \\sim &  {\\cal N}\\left( \\left(\\begin{array}{c}\n",
    "    \\mathbf{0} \\\\\n",
    "    0 \\\\\n",
    "  \\end{array}\\right)\n",
    "  , \\left(\\begin{array}{cc}\n",
    "    \\Sigma(x_{1:L}) &  k(x_{1:L}, x) \\\\\n",
    "    k(x_{1:L}, x)^\\top &  K(x, x)   \\\\\n",
    "  \\end{array}\\right) \\right) \\\\\n",
    "\\end{eqnarray*}\n",
    "\n",
    "Here,  $k(x_{1:L}, x)$ is a $L \\times 1$ vector with entries $k_i$ where\n",
    "\n",
    "\\begin{eqnarray*}\n",
    "k_i = K(x_i, x) \n",
    "\\end{eqnarray*}\n",
    "\n",
    "Popular choices of covariance functions to generate smooth regression functions include a Bell shaped one\n",
    "\\begin{eqnarray*}\n",
    "K_1(x_i, x_j) & = & \\exp\\left(-\\frac{1}2 \\| x_i - x_j \\|^2 \\right)\n",
    "\\end{eqnarray*}\n",
    "and a Laplacian\n",
    "\\begin{eqnarray*}\n",
    "K_2(x_i, x_j) & = & \\exp\\left(-\\frac{1}2 \\| x_i - x_j \\| \\right)\n",
    "\\end{eqnarray*}\n",
    "\n",
    "where $\\| x \\| = \\sqrt{x^\\top x}$ is the Euclidian norm.\n",
    "\n",
    "## Part 1\n",
    "From your notes, derive the expressions to compute the predictive density\n",
    "\\begin{eqnarray*}\n",
    "p(\\hat{y}| y_{1:L}, x_{1:L}, \\hat{x})\n",
    "\\end{eqnarray*}\n",
    "\n",
    "\n",
    "\\begin{eqnarray*}\n",
    "p(y | y_{1:L}, x_{1:L}, x) &=& {\\cal N}(y; m, S) \\\\\n",
    "m & = & \\\\\n",
    "S & = & \n",
    "\\end{eqnarray*}\n",
    "\n",
    "## Part 2\n",
    "Write a program to compute the mean and covariance of $p(\\hat{y}| y_{1:L}, x_{1:L}, \\hat{x})$ to generate a for the following data:\n",
    "\n",
    "     x = [-2 -1 0 3.5 4]\n",
    "     y = [4.1 0.9 2 12.3 15.8]\n",
    "     \n",
    "Try different covariance functions $K_1$ and $K_2$ and observation noise covariances $R$ and comment on the nature of the approximation.\n",
    "\n",
    "## Part 3\n",
    "Suppose we are using a covariance function parameterised by\n",
    "\\begin{eqnarray*}\n",
    "K_\\beta(x_i, x_j) & = & \\exp\\left(-\\frac{1}\\beta  \\| x_i - x_j \\|^2 \\right)\n",
    "\\end{eqnarray*}\n",
    "Find the optimum regularisation parameter $\\beta^*(R)$ as a function of observation noise variance via maximisation of the marginal likelihood, i.e.\n",
    "\\begin{eqnarray*}\n",
    "\\beta^* & = & \\arg\\max_{\\beta} p(y_{1:N}| x_{1:N}, \\beta, R)\n",
    "\\end{eqnarray*}\n",
    "Generate a plot of $b^*(R)$ for $R = 0.01, 0.02, \\dots, 1$ for the dataset given in 2.\n",
    "\n",
    "Here, remember that \n",
    "\\begin{eqnarray*}\n",
    "p(y_{1:N}| x_{1:N}, \\beta, R) = \\mathcal{N}(y_{1:N}; 0, K(x_{1:N})+R)\n",
    "\\end{eqnarray*}\n",
    "\n",
    "For your reference, we give a basic implementation below:"
   ]
  },
  {
   "cell_type": "code",
   "execution_count": 39,
   "metadata": {
    "collapsed": false
   },
   "outputs": [
    {
     "data": {
      "image/png": "[encoded data removed]",
      "text/plain": [
       "<matplotlib.figure.Figure at 0x4db5130>"
      ]
     },
     "metadata": {},
     "output_type": "display_data"
    }
   ],
   "source": [
    "%matplotlib inline\n",
    "import numpy as np\n",
    "import matplotlib as mlab\n",
    "import matplotlib.pylab as plt\n",
    "import matplotlib.pyplot as pyt\n",
    "\n",
    "def cov_fun_bell(x1,x2,delta=1):\n",
    "    return np.exp(-0.5*np.abs(x1-x2)**2/delta) \n",
    "\n",
    "def cov_fun_exp(x1,x2):\n",
    "    return np.exp(-0.5*np.abs(x1-x2)) \n",
    "\n",
    "def cov_fun(x1,x2):\n",
    "    return cov_fun_bell(x1,x2,delta=1) \n",
    "\n",
    "R = 0.05\n",
    "\n",
    "x = np.array([-2, -1, 0, 3.5, 4]);\n",
    "y = np.array([4.1, 0.9, 2, 12.3, 15.8]);\n",
    "\n",
    "Sig = cov_fun(x.reshape((len(x),1)),x.reshape((1,len(x)))) + R*np.eye(len(x))\n",
    "SigI = np.linalg.inv(Sig)\n",
    "\n",
    "xx = np.linspace(-5,5,100)\n",
    "yy = np.zeros_like(xx)\n",
    "ss = np.zeros_like(xx)\n",
    "for i in range(len(xx)):\n",
    "    z = np.r_[x,xx[i]]\n",
    "    CrossSig = cov_fun(x,xx[i])\n",
    "    PriorSig = cov_fun(xx[i],xx[i]) + R\n",
    "    \n",
    "    yy[i] = np.dot(np.dot(CrossSig, SigI),y)\n",
    "    ss[i] = PriorSig - np.dot(np.dot(CrossSig, SigI),CrossSig)\n",
    "    \n",
    "\n",
    "plt.plot(x,y,'or')\n",
    "plt.plot(xx,yy,'b.')\n",
    "plt.plot(xx,yy+3*np.sqrt(ss),'b:')\n",
    "plt.plot(xx,yy-3*np.sqrt(ss),'b:')\n",
    "plt.show()"
   ]
  },
  {
   "cell_type": "markdown",
   "metadata": {},
   "source": [
    "# Question 2\n",
    "\n",
    "Read http://mbmlbook.com/TrueSkill.html\n",
    "and\n",
    "http://mbmlbook.com/TrueSkill_Modelling_the_outcome_of_games.html\n",
    "\n",
    "* Write a program that produces 10,000 samples from a Gaussian with zero mean and a standard deviation of 1. Compute the percentage of these samples which lie between -1 and 1, between -2 and 2 and between -3 and 3. You should find that these percentages are close to those given in the caption of Figure 3.4.\n",
    "\n",
    "* Construct a histogram of the samples created in the previous exercise (like the ones in Figure 3.7) and verify that it resembles a bell-shaped curve.\n",
    "\n",
    "* Compute the mean, standard deviation and variance of your samples, referring to Panel 3.1. The mean should be close to zero and the standard deviation and variance should both be close to 1 (since 1^2=1).\n",
    "\n",
    "* Produce a second set of 10,000 samples from a Gaussian with mean 1 and standard deviation 1. Plot a scatter plot like Figure 3.8 where the X co-ordinate of each point is a sample from the first set and the Y co-ordinate is the corresponding sample from the second set (pairing the first sample from each set, the second sample from each set and so on). Compute the fraction of samples which lie above the diagonal line where X=Y.\n",
    "\n",
    "\n",
    "* Create double variables X and Y with priors of Gaussian(0,1) and Gaussian(1,1) respectively. Define a third random variable Ywins that equals to Y>X. Compute the posterior distribution numerically over Ywins and verify that it is close to the fraction of samples above the diagonal in the previous exercise.\n"
   ]
  },
  {
   "cell_type": "code",
   "execution_count": 40,
   "metadata": {
    "collapsed": false
   },
   "outputs": [
    {
     "data": {
      "text/plain": [
       "array([ 1.57571872, -0.65290259, -0.92953676, ..., -0.99236204,\n",
       "       -0.19880941,  1.42110251])"
      ]
     },
     "execution_count": 40,
     "metadata": {},
     "output_type": "execute_result"
    }
   ],
   "source": [
    "mu, sigma = 0, 1\n",
    "samples = np.random.normal(mu, sigma, 10000)\n",
    "samples"
   ]
  },
  {
   "cell_type": "code",
   "execution_count": 41,
   "metadata": {
    "collapsed": false
   },
   "outputs": [
    {
     "name": "stdout",
     "output_type": "stream",
     "text": [
      "Number of samples between -1 and 1: \n",
      "6867\n",
      "percentage:\n",
      "68.67\n",
      "Number of samples between -2 and 2: \n",
      "9534\n",
      "percentage:\n",
      "95.34\n",
      "Number of samples between -3 and 3: \n",
      "9971\n",
      "percentage:\n",
      "99.71\n"
     ]
    }
   ],
   "source": [
    "numOfBetweenOne = 0\n",
    "numOfBetweenTwo = 0\n",
    "numOfBetweenThree = 0\n",
    "total = 0\n",
    "\n",
    "for element in samples:\n",
    "    if(element<1) and (element>-1):\n",
    "        numOfBetweenOne = numOfBetweenOne + 1\n",
    "    if(element<2) and (element>-2):\n",
    "        numOfBetweenTwo = numOfBetweenTwo + 1\n",
    "    if(element<3) and (element>-3):\n",
    "        numOfBetweenThree = numOfBetweenThree + 1\n",
    "    total = total + element\n",
    "    \n",
    "print ('Number of samples between -1 and 1: ')\n",
    "print(numOfBetweenOne)\n",
    "print('percentage:')\n",
    "print(100*(numOfBetweenOne/10000))\n",
    "\n",
    "print ('Number of samples between -2 and 2: ')\n",
    "print(numOfBetweenTwo)\n",
    "print('percentage:')\n",
    "print(100*(numOfBetweenTwo/10000))\n",
    "\n",
    "print ('Number of samples between -3 and 3: ')\n",
    "print(numOfBetweenThree)\n",
    "print('percentage:')\n",
    "print(100*(numOfBetweenThree/10000))"
   ]
  },
  {
   "cell_type": "code",
   "execution_count": 42,
   "metadata": {
    "collapsed": false
   },
   "outputs": [
    {
     "data": {
      "image/png": "[encoded data removed]",
      "text/plain": [
       "<matplotlib.figure.Figure at 0x63b3250>"
      ]
     },
     "metadata": {},
     "output_type": "display_data"
    }
   ],
   "source": [
    "count, bins, ignored = plt.hist(samples, 30, normed=True)\n",
    "plt.plot(bins, 1/(sigma * np.sqrt(2 * np.pi)) *\n",
    "               np.exp( - (bins - mu)**2 / (2 * sigma**2) ),\n",
    "         linewidth=2, color='r')\n",
    "plt.show()"
   ]
  },
  {
   "cell_type": "code",
   "execution_count": 43,
   "metadata": {
    "collapsed": false
   },
   "outputs": [
    {
     "name": "stdout",
     "output_type": "stream",
     "text": [
      "mean: -0.0104228310165\n"
     ]
    }
   ],
   "source": [
    "mean = total/10000\n",
    "print('mean:', mean)"
   ]
  },
  {
   "cell_type": "code",
   "execution_count": 44,
   "metadata": {
    "collapsed": false
   },
   "outputs": [
    {
     "name": "stdout",
     "output_type": "stream",
     "text": [
      "variance: 0.990460186662\n",
      "standard deviation: 0.995218662738\n"
     ]
    }
   ],
   "source": [
    "varianceTotal = 0\n",
    "for element in samples:\n",
    "    varianceTotal = varianceTotal + (element - mean)**2\n",
    "    \n",
    "variance = varianceTotal/10000\n",
    "std = np.sqrt(variance)\n",
    "print('variance:', variance)\n",
    "print('standard deviation:', std)"
   ]
  },
  {
   "cell_type": "code",
   "execution_count": 45,
   "metadata": {
    "collapsed": false
   },
   "outputs": [
    {
     "data": {
      "text/plain": [
       "array([ 1.09138577,  0.94311819,  1.40331545, ...,  1.38287653,\n",
       "       -0.47753884,  1.1354218 ])"
      ]
     },
     "execution_count": 45,
     "metadata": {},
     "output_type": "execute_result"
    }
   ],
   "source": [
    "mu2, sigma2 = 1, 1\n",
    "samples2 = np.random.normal(mu2, sigma2, 10000)\n",
    "samples2"
   ]
  },
  {
   "cell_type": "code",
   "execution_count": 47,
   "metadata": {
    "collapsed": false
   },
   "outputs": [
    {
     "data": {
      "text/plain": [
       "[<matplotlib.lines.Line2D at 0xdaa950>]"
      ]
     },
     "execution_count": 47,
     "metadata": {},
     "output_type": "execute_result"
    },
    {
     "data": {
      "image/png": "[encoded data removed]",
      "text/plain": [
       "<matplotlib.figure.Figure at 0xd76790>"
      ]
     },
     "metadata": {},
     "output_type": "display_data"
    }
   ],
   "source": [
    "pyt.scatter(samples, samples2)\n",
    "pyt.plot([-5, 5], [-5, 5], '--')"
   ]
  },
  {
   "cell_type": "code",
   "execution_count": 49,
   "metadata": {
    "collapsed": false
   },
   "outputs": [
    {
     "name": "stdout",
     "output_type": "stream",
     "text": [
      "Fraction of samples above the diagonal line:  0.7602\n"
     ]
    }
   ],
   "source": [
    "numOfAboveDiagonal = 0\n",
    "for i in range(9999):\n",
    "    if (samples2[i]>samples[i]):\n",
    "        numOfAboveDiagonal = numOfAboveDiagonal + 1\n",
    "        \n",
    "print('Fraction of samples above the diagonal line: ', numOfAboveDiagonal/10000)"
   ]
  }
 ],
 "metadata": {
  "kernelspec": {
   "display_name": "Python 3",
   "language": "python",
   "name": "python3"
  },
  "language_info": {
   "codemirror_mode": {
    "name": "ipython",
    "version": 3
   },
   "file_extension": ".py",
   "mimetype": "text/x-python",
   "name": "python",
   "nbconvert_exporter": "python",
   "pygments_lexer": "ipython3",
   "version": "3.5.1"
  }
 },
 "nbformat": 4,
 "nbformat_minor": 0
}
